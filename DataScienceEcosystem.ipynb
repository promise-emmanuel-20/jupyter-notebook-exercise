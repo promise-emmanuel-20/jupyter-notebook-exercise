{
 "cells": [
  {
   "cell_type": "markdown",
   "id": "204129df-e8fc-4b68-a981-fdd775b622c2",
   "metadata": {},
   "source": [
    "# Data Science tools and Ecosystem"
   ]
  },
  {
   "cell_type": "markdown",
   "id": "951d0492-582f-403a-87ae-4eccabd8f201",
   "metadata": {},
   "source": [
    "In this notebook, Data Science Tools and Ecosystem are summarized."
   ]
  },
  {
   "cell_type": "markdown",
   "id": "cab8a16b-488d-404a-8eb0-b3adb015274f",
   "metadata": {},
   "source": [
    "**Objectives:**\n",
    "* List popular languages for Data Science\n",
    "* List Data Science Libraries\n",
    "* List tools used in Data Science"
   ]
  },
  {
   "cell_type": "markdown",
   "id": "71515913-afb6-427d-a200-b805acb7e642",
   "metadata": {},
   "source": [
    "Some of the popular languages that Data scientists use are:\n",
    "1. Python\n",
    "2. R\n",
    "3. SQL"
   ]
  },
  {
   "cell_type": "markdown",
   "id": "46474f9d-21ba-499b-9be9-d511178c3b5b",
   "metadata": {},
   "source": [
    "Some of the commonly used libraries used by Data Scientists include:\n",
    "1. Python Libraries - Numpy, Pandas, Matplotlib\n",
    "2. R libraries - ggplot, dplyr, caret\n",
    "3. SQL libraries - Pandas, sqldf, AQLAlchemy"
   ]
  },
  {
   "cell_type": "markdown",
   "id": "1f532366-1eb8-4e30-b7cb-1c16da3828d6",
   "metadata": {},
   "source": [
    "| Data Science Tools |\n",
    "| ------------------ |\n",
    "| Jupyter Notebook   |\n",
    "| RStudio            |\n",
    "| Spyder             |"
   ]
  },
  {
   "cell_type": "markdown",
   "id": "8b0cf87c-91c7-4f4c-a7b6-25d4c95277c5",
   "metadata": {},
   "source": [
    "### Below are a few examples of evaluating arithmetic expressions in python"
   ]
  },
  {
   "cell_type": "code",
   "execution_count": 3,
   "id": "f975c1fa-bf33-4bbe-8581-151e5913f10a",
   "metadata": {},
   "outputs": [
    {
     "data": {
      "text/plain": [
       "17"
      ]
     },
     "execution_count": 3,
     "metadata": {},
     "output_type": "execute_result"
    }
   ],
   "source": [
    "# This is a simple arithmetic expression to multiply then add integers\n",
    "(3*4)+5\n"
   ]
  },
  {
   "cell_type": "code",
   "execution_count": 6,
   "id": "b36d44b5-f98f-42ad-91e0-e0e9063330db",
   "metadata": {},
   "outputs": [
    {
     "name": "stdout",
     "output_type": "stream",
     "text": [
      "3.3333333333333335\n"
     ]
    }
   ],
   "source": [
    "# This will convert 200 minutes to hours by diving by 60\n",
    "minutes = 200\n",
    "hours = minutes/60\n",
    "print(hours)"
   ]
  },
  {
   "cell_type": "markdown",
   "id": "48f1e7b2-2c60-418a-8099-6a26fa8036ff",
   "metadata": {},
   "source": [
    "## Author\n",
    "Promise"
   ]
  }
 ],
 "metadata": {
  "kernelspec": {
   "display_name": "Python 3 (ipykernel)",
   "language": "python",
   "name": "python3"
  },
  "language_info": {
   "codemirror_mode": {
    "name": "ipython",
    "version": 3
   },
   "file_extension": ".py",
   "mimetype": "text/x-python",
   "name": "python",
   "nbconvert_exporter": "python",
   "pygments_lexer": "ipython3",
   "version": "3.11.8"
  }
 },
 "nbformat": 4,
 "nbformat_minor": 5
}
